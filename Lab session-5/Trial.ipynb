{
 "cells": [
  {
   "cell_type": "code",
   "execution_count": 1,
   "metadata": {
    "scrolled": true
   },
   "outputs": [
    {
     "name": "stdout",
     "output_type": "stream",
     "text": [
      "X(n) =cos(0.2πn+θ)\n"
     ]
    },
    {
     "data": {
      "image/png": "[encoded data removed]",
      "text/plain": [
       "<Figure size 432x288 with 1 Axes>"
      ]
     },
     "metadata": {
      "needs_background": "light"
     },
     "output_type": "display_data"
    },
    {
     "data": {
      "image/png": "[encoded data removed]",
      "text/plain": [
       "<Figure size 432x288 with 1 Axes>"
      ]
     },
     "metadata": {
      "needs_background": "light"
     },
     "output_type": "display_data"
    },
    {
     "data": {
      "text/plain": [
       "'   \\n#X(t) =Acos(0.25πn),A∼U[−5, 5],n∈[0, 7].\\nprint(\"X(t) =Acos(0.25πn)\")\\nx2= np.linspace(0,7,10)\\nfor i in range(4):    \\n    y2 = randint(-5,5)*np.cos(0.25*x1*np.pi)\\n    #y = MinMaxScaler(feature_range=(-1,1)).fit_transform(y.reshape(-1, 1)).reshape(-1)\\n    #plt.plot(x2,y2)\\n    #plt.show()\\n    m = statistics.mean(y2) \\n    print(m)\\n    plt.stem(x2, y2)\\n    plt.show()\\n    \\n\\nprint(\"X(n) =A(n), whereA(n)∼N(0, 1)\")\\nmu = 0\\nvariance = 1\\nsigma = math.sqrt(variance)\\nfor i in range(3,7):\\n    x = np.linspace(mu - i*sigma, mu + i*sigma, 15)\\n    m = statistics.mean(x) \\n    print(m)\\n    plt.stem(x, stats.norm.pdf(x, mu, sigma))\\n    plt.show()\\n    \\n'"
      ]
     },
     "execution_count": 1,
     "metadata": {},
     "output_type": "execute_result"
    }
   ],
   "source": [
    "import numpy as np\n",
    "import statistics\n",
    "from numpy import mean\n",
    "from numpy.random import randint,random\n",
    "from scipy import interpolate\n",
    "import scipy.stats as stats\n",
    "from sklearn.preprocessing import MinMaxScaler\n",
    "import matplotlib.pyplot as plt\n",
    "import math\n",
    "#X(n) =cos(0.2πn+θ),θ∼U[−π,π],n∈[0, 9].\n",
    "#X(t) =Acos(0.25πn),A∼U[−5, 5],n∈[0, 7].\n",
    "print(\"X(n) =cos(0.2πn+θ)\")\n",
    "x1= np.linspace(0,9,10)\n",
    "k=random()\n",
    "l=k*np.pi\n",
    "m=random()\n",
    "o=-m*np.pi\n",
    "theta=l+o\n",
    "for i in range(2):    \n",
    "    y1 = np.cos(0.2*x1*np.pi + randint(-np.pi,np.pi))\n",
    "    #y = MinMaxScaler(feature_range=(-1,1)).fit_transform(y.reshape(-1, 1)).reshape(-1)\n",
    "    #plt.plot(x1,y1)\n",
    "    #plt.show()\n",
    "    m = statistics.mean(y1) \n",
    "    \n",
    "    #print(l+o)\n",
    "    plt.plot(x1, y1)\n",
    "    plt.show()\n",
    "\"\"\"   \n",
    "#X(t) =Acos(0.25πn),A∼U[−5, 5],n∈[0, 7].\n",
    "print(\"X(t) =Acos(0.25πn)\")\n",
    "x2= np.linspace(0,7,10)\n",
    "for i in range(4):    \n",
    "    y2 = randint(-5,5)*np.cos(0.25*x1*np.pi)\n",
    "    #y = MinMaxScaler(feature_range=(-1,1)).fit_transform(y.reshape(-1, 1)).reshape(-1)\n",
    "    #plt.plot(x2,y2)\n",
    "    #plt.show()\n",
    "    m = statistics.mean(y2) \n",
    "    print(m)\n",
    "    plt.stem(x2, y2)\n",
    "    plt.show()\n",
    "    \n",
    "\n",
    "print(\"X(n) =A(n), whereA(n)∼N(0, 1)\")\n",
    "mu = 0\n",
    "variance = 1\n",
    "sigma = math.sqrt(variance)\n",
    "for i in range(3,7):\n",
    "    x = np.linspace(mu - i*sigma, mu + i*sigma, 15)\n",
    "    m = statistics.mean(x) \n",
    "    print(m)\n",
    "    plt.stem(x, stats.norm.pdf(x, mu, sigma))\n",
    "    plt.show()\n",
    "    \n",
    "\"\"\"\n",
    "    \n",
    "    "
   ]
  },
  {
   "cell_type": "code",
   "execution_count": null,
   "metadata": {},
   "outputs": [],
   "source": [
    "import numpy as np\n",
    "import statistics\n",
    "from numpy import mean\n",
    "from numpy.random import randint\n",
    "from scipy import interpolate\n",
    "import scipy.stats as stats\n",
    "from sklearn.preprocessing import MinMaxScaler\n",
    "import matplotlib.pyplot as plt\n",
    "import math\n",
    "#X(n) =cos(0.2πn+θ),θ∼U[−π,π],n∈[0, 9].\n",
    "#X(t) =Acos(0.25πn),A∼U[−5, 5],n∈[0, 7].\n",
    "print(\"X(n) =cos(0.2πn+θ)\")\n",
    "x1= np.linspace(0,9,10)\n",
    "for i in range(4):    \n",
    "    y1 = np.cos(0.2*x1*np.pi + randint(-np.pi,np.pi))\n",
    "    #y = MinMaxScaler(feature_range=(-1,1)).fit_transform(y.reshape(-1, 1)).reshape(-1)\n",
    "    #plt.plot(x1,y1)\n",
    "    #plt.show()\n",
    "    m = statistics.mean(y1) \n",
    "    k=randint(-np.pi,np.pi)\n",
    "    print(k)\n",
    "    plt.stem(x1, y1)\n",
    "    plt.show()\n",
    "\"\"\"   \n",
    "#X(t) =Acos(0.25πn),A∼U[−5, 5],n∈[0, 7].\n",
    "print(\"X(t) =Acos(0.25πn)\")\n",
    "x2= np.linspace(0,7,10)\n",
    "for i in range(4):    \n",
    "    y2 = randint(-5,5)*np.cos(0.25*x1*np.pi)\n",
    "    #y = MinMaxScaler(feature_range=(-1,1)).fit_transform(y.reshape(-1, 1)).reshape(-1)\n",
    "    #plt.plot(x2,y2)\n",
    "    #plt.show()\n",
    "    m = statistics.mean(y2) \n",
    "    print(m)\n",
    "    plt.stem(x2, y2)\n",
    "    plt.show()\n",
    "    \n",
    "\n",
    "print(\"X(n) =A(n), whereA(n)∼N(0, 1)\")\n",
    "mu = 0\n",
    "variance = 1\n",
    "sigma = math.sqrt(variance)\n",
    "for i in range(3,7):\n",
    "    x = np.linspace(mu - i*sigma, mu + i*sigma, 15)\n",
    "    m = statistics.mean(x) \n",
    "    print(m)\n",
    "    plt.stem(x, stats.norm.pdf(x, mu, sigma))\n",
    "    plt.show()\n",
    "    \n",
    "\"\"\"\n",
    "    \n",
    "    "
   ]
  },
  {
   "cell_type": "code",
   "execution_count": 2,
   "metadata": {
    "scrolled": false
   },
   "outputs": [
    {
     "name": "stdout",
     "output_type": "stream",
     "text": [
      "Index(['Year', 'Jan', 'Feb', 'Mar', 'Apr', 'May', 'Jun', 'Jul', 'Aug', 'Sep',\n",
      "       'Oct', 'Nov', 'Dec'],\n",
      "      dtype='object')\n",
      "9.064305960007761\n",
      "1.3509803921568628\n"
     ]
    },
    {
     "ename": "ValueError",
     "evalue": "x is required to have ndim 1 but has ndim 2",
     "output_type": "error",
     "traceback": [
      "\u001b[1;31m---------------------------------------------------------------------------\u001b[0m",
      "\u001b[1;31mValueError\u001b[0m                                Traceback (most recent call last)",
      "\u001b[1;32m<ipython-input-2-0e8789a6e4a6>\u001b[0m in \u001b[0;36m<module>\u001b[1;34m\u001b[0m\n\u001b[0;32m      9\u001b[0m \u001b[0mm\u001b[0m \u001b[1;33m=\u001b[0m \u001b[0mstatistics\u001b[0m\u001b[1;33m.\u001b[0m\u001b[0mmean\u001b[0m\u001b[1;33m(\u001b[0m\u001b[0mseries\u001b[0m\u001b[1;33m.\u001b[0m\u001b[0mJan\u001b[0m\u001b[1;33m)\u001b[0m\u001b[1;33m\u001b[0m\u001b[1;33m\u001b[0m\u001b[0m\n\u001b[0;32m     10\u001b[0m \u001b[0mprint\u001b[0m\u001b[1;33m(\u001b[0m\u001b[0mm\u001b[0m\u001b[1;33m)\u001b[0m\u001b[1;33m\u001b[0m\u001b[1;33m\u001b[0m\u001b[0m\n\u001b[1;32m---> 11\u001b[1;33m \u001b[0mplot_acf\u001b[0m\u001b[1;33m(\u001b[0m\u001b[0mseries\u001b[0m\u001b[1;33m,\u001b[0m\u001b[0mlags\u001b[0m\u001b[1;33m=\u001b[0m\u001b[1;36m25\u001b[0m\u001b[1;33m)\u001b[0m\u001b[1;33m\u001b[0m\u001b[1;33m\u001b[0m\u001b[0m\n\u001b[0m\u001b[0;32m     12\u001b[0m \u001b[0mpyplot\u001b[0m\u001b[1;33m.\u001b[0m\u001b[0mshow\u001b[0m\u001b[1;33m(\u001b[0m\u001b[1;33m)\u001b[0m\u001b[1;33m\u001b[0m\u001b[1;33m\u001b[0m\u001b[0m\n\u001b[0;32m     13\u001b[0m \u001b[1;33m\u001b[0m\u001b[0m\n",
      "\u001b[1;32mc:\\python\\python385\\lib\\site-packages\\pandas\\util\\_decorators.py\u001b[0m in \u001b[0;36mwrapper\u001b[1;34m(*args, **kwargs)\u001b[0m\n\u001b[0;32m    197\u001b[0m                 \u001b[1;32melse\u001b[0m\u001b[1;33m:\u001b[0m\u001b[1;33m\u001b[0m\u001b[1;33m\u001b[0m\u001b[0m\n\u001b[0;32m    198\u001b[0m                     \u001b[0mkwargs\u001b[0m\u001b[1;33m[\u001b[0m\u001b[0mnew_arg_name\u001b[0m\u001b[1;33m]\u001b[0m \u001b[1;33m=\u001b[0m \u001b[0mnew_arg_value\u001b[0m\u001b[1;33m\u001b[0m\u001b[1;33m\u001b[0m\u001b[0m\n\u001b[1;32m--> 199\u001b[1;33m             \u001b[1;32mreturn\u001b[0m \u001b[0mfunc\u001b[0m\u001b[1;33m(\u001b[0m\u001b[1;33m*\u001b[0m\u001b[0margs\u001b[0m\u001b[1;33m,\u001b[0m \u001b[1;33m**\u001b[0m\u001b[0mkwargs\u001b[0m\u001b[1;33m)\u001b[0m\u001b[1;33m\u001b[0m\u001b[1;33m\u001b[0m\u001b[0m\n\u001b[0m\u001b[0;32m    200\u001b[0m \u001b[1;33m\u001b[0m\u001b[0m\n\u001b[0;32m    201\u001b[0m         \u001b[1;32mreturn\u001b[0m \u001b[0mcast\u001b[0m\u001b[1;33m(\u001b[0m\u001b[0mF\u001b[0m\u001b[1;33m,\u001b[0m \u001b[0mwrapper\u001b[0m\u001b[1;33m)\u001b[0m\u001b[1;33m\u001b[0m\u001b[1;33m\u001b[0m\u001b[0m\n",
      "\u001b[1;32mc:\\python\\python385\\lib\\site-packages\\statsmodels\\graphics\\tsaplots.py\u001b[0m in \u001b[0;36mplot_acf\u001b[1;34m(x, ax, lags, alpha, use_vlines, adjusted, fft, missing, title, zero, vlines_kwargs, **kwargs)\u001b[0m\n\u001b[0;32m    175\u001b[0m     \u001b[0mconfint\u001b[0m \u001b[1;33m=\u001b[0m \u001b[1;32mNone\u001b[0m\u001b[1;33m\u001b[0m\u001b[1;33m\u001b[0m\u001b[0m\n\u001b[0;32m    176\u001b[0m     \u001b[1;31m# acf has different return type based on alpha\u001b[0m\u001b[1;33m\u001b[0m\u001b[1;33m\u001b[0m\u001b[1;33m\u001b[0m\u001b[0m\n\u001b[1;32m--> 177\u001b[1;33m     acf_x = acf(\n\u001b[0m\u001b[0;32m    178\u001b[0m         \u001b[0mx\u001b[0m\u001b[1;33m,\u001b[0m\u001b[1;33m\u001b[0m\u001b[1;33m\u001b[0m\u001b[0m\n\u001b[0;32m    179\u001b[0m         \u001b[0mnlags\u001b[0m\u001b[1;33m=\u001b[0m\u001b[0mnlags\u001b[0m\u001b[1;33m,\u001b[0m\u001b[1;33m\u001b[0m\u001b[1;33m\u001b[0m\u001b[0m\n",
      "\u001b[1;32mc:\\python\\python385\\lib\\site-packages\\pandas\\util\\_decorators.py\u001b[0m in \u001b[0;36mwrapper\u001b[1;34m(*args, **kwargs)\u001b[0m\n\u001b[0;32m    197\u001b[0m                 \u001b[1;32melse\u001b[0m\u001b[1;33m:\u001b[0m\u001b[1;33m\u001b[0m\u001b[1;33m\u001b[0m\u001b[0m\n\u001b[0;32m    198\u001b[0m                     \u001b[0mkwargs\u001b[0m\u001b[1;33m[\u001b[0m\u001b[0mnew_arg_name\u001b[0m\u001b[1;33m]\u001b[0m \u001b[1;33m=\u001b[0m \u001b[0mnew_arg_value\u001b[0m\u001b[1;33m\u001b[0m\u001b[1;33m\u001b[0m\u001b[0m\n\u001b[1;32m--> 199\u001b[1;33m             \u001b[1;32mreturn\u001b[0m \u001b[0mfunc\u001b[0m\u001b[1;33m(\u001b[0m\u001b[1;33m*\u001b[0m\u001b[0margs\u001b[0m\u001b[1;33m,\u001b[0m \u001b[1;33m**\u001b[0m\u001b[0mkwargs\u001b[0m\u001b[1;33m)\u001b[0m\u001b[1;33m\u001b[0m\u001b[1;33m\u001b[0m\u001b[0m\n\u001b[0m\u001b[0;32m    200\u001b[0m \u001b[1;33m\u001b[0m\u001b[0m\n\u001b[0;32m    201\u001b[0m         \u001b[1;32mreturn\u001b[0m \u001b[0mcast\u001b[0m\u001b[1;33m(\u001b[0m\u001b[0mF\u001b[0m\u001b[1;33m,\u001b[0m \u001b[0mwrapper\u001b[0m\u001b[1;33m)\u001b[0m\u001b[1;33m\u001b[0m\u001b[1;33m\u001b[0m\u001b[0m\n",
      "\u001b[1;32mc:\\python\\python385\\lib\\site-packages\\statsmodels\\tsa\\stattools.py\u001b[0m in \u001b[0;36macf\u001b[1;34m(x, adjusted, nlags, qstat, fft, alpha, missing)\u001b[0m\n\u001b[0;32m    667\u001b[0m         )\n\u001b[0;32m    668\u001b[0m         \u001b[0mfft\u001b[0m \u001b[1;33m=\u001b[0m \u001b[1;32mFalse\u001b[0m\u001b[1;33m\u001b[0m\u001b[1;33m\u001b[0m\u001b[0m\n\u001b[1;32m--> 669\u001b[1;33m     \u001b[0mx\u001b[0m \u001b[1;33m=\u001b[0m \u001b[0marray_like\u001b[0m\u001b[1;33m(\u001b[0m\u001b[0mx\u001b[0m\u001b[1;33m,\u001b[0m \u001b[1;34m\"x\"\u001b[0m\u001b[1;33m)\u001b[0m\u001b[1;33m\u001b[0m\u001b[1;33m\u001b[0m\u001b[0m\n\u001b[0m\u001b[0;32m    670\u001b[0m     \u001b[0mnobs\u001b[0m \u001b[1;33m=\u001b[0m \u001b[0mlen\u001b[0m\u001b[1;33m(\u001b[0m\u001b[0mx\u001b[0m\u001b[1;33m)\u001b[0m  \u001b[1;31m# TODO: should this shrink for missing=\"drop\" and NaNs in x?\u001b[0m\u001b[1;33m\u001b[0m\u001b[1;33m\u001b[0m\u001b[0m\n\u001b[0;32m    671\u001b[0m     \u001b[0mavf\u001b[0m \u001b[1;33m=\u001b[0m \u001b[0macovf\u001b[0m\u001b[1;33m(\u001b[0m\u001b[0mx\u001b[0m\u001b[1;33m,\u001b[0m \u001b[0madjusted\u001b[0m\u001b[1;33m=\u001b[0m\u001b[0madjusted\u001b[0m\u001b[1;33m,\u001b[0m \u001b[0mdemean\u001b[0m\u001b[1;33m=\u001b[0m\u001b[1;32mTrue\u001b[0m\u001b[1;33m,\u001b[0m \u001b[0mfft\u001b[0m\u001b[1;33m=\u001b[0m\u001b[0mfft\u001b[0m\u001b[1;33m,\u001b[0m \u001b[0mmissing\u001b[0m\u001b[1;33m=\u001b[0m\u001b[0mmissing\u001b[0m\u001b[1;33m)\u001b[0m\u001b[1;33m\u001b[0m\u001b[1;33m\u001b[0m\u001b[0m\n",
      "\u001b[1;32mc:\\python\\python385\\lib\\site-packages\\statsmodels\\tools\\validation\\validation.py\u001b[0m in \u001b[0;36marray_like\u001b[1;34m(obj, name, dtype, ndim, maxdim, shape, order, contiguous, optional)\u001b[0m\n\u001b[0;32m    145\u001b[0m         \u001b[1;32mif\u001b[0m \u001b[0marr\u001b[0m\u001b[1;33m.\u001b[0m\u001b[0mndim\u001b[0m \u001b[1;33m!=\u001b[0m \u001b[0mndim\u001b[0m\u001b[1;33m:\u001b[0m\u001b[1;33m\u001b[0m\u001b[1;33m\u001b[0m\u001b[0m\n\u001b[0;32m    146\u001b[0m             \u001b[0mmsg\u001b[0m \u001b[1;33m=\u001b[0m \u001b[1;34m\"{0} is required to have ndim {1} but has ndim {2}\"\u001b[0m\u001b[1;33m\u001b[0m\u001b[1;33m\u001b[0m\u001b[0m\n\u001b[1;32m--> 147\u001b[1;33m             \u001b[1;32mraise\u001b[0m \u001b[0mValueError\u001b[0m\u001b[1;33m(\u001b[0m\u001b[0mmsg\u001b[0m\u001b[1;33m.\u001b[0m\u001b[0mformat\u001b[0m\u001b[1;33m(\u001b[0m\u001b[0mname\u001b[0m\u001b[1;33m,\u001b[0m \u001b[0mndim\u001b[0m\u001b[1;33m,\u001b[0m \u001b[0marr\u001b[0m\u001b[1;33m.\u001b[0m\u001b[0mndim\u001b[0m\u001b[1;33m)\u001b[0m\u001b[1;33m)\u001b[0m\u001b[1;33m\u001b[0m\u001b[1;33m\u001b[0m\u001b[0m\n\u001b[0m\u001b[0;32m    148\u001b[0m     \u001b[1;32mif\u001b[0m \u001b[0mshape\u001b[0m \u001b[1;32mis\u001b[0m \u001b[1;32mnot\u001b[0m \u001b[1;32mNone\u001b[0m\u001b[1;33m:\u001b[0m\u001b[1;33m\u001b[0m\u001b[1;33m\u001b[0m\u001b[0m\n\u001b[0;32m    149\u001b[0m         \u001b[1;32mfor\u001b[0m \u001b[0mactual\u001b[0m\u001b[1;33m,\u001b[0m \u001b[0mreq\u001b[0m \u001b[1;32min\u001b[0m \u001b[0mzip\u001b[0m\u001b[1;33m(\u001b[0m\u001b[0marr\u001b[0m\u001b[1;33m.\u001b[0m\u001b[0mshape\u001b[0m\u001b[1;33m,\u001b[0m \u001b[0mshape\u001b[0m\u001b[1;33m)\u001b[0m\u001b[1;33m:\u001b[0m\u001b[1;33m\u001b[0m\u001b[1;33m\u001b[0m\u001b[0m\n",
      "\u001b[1;31mValueError\u001b[0m: x is required to have ndim 1 but has ndim 2"
     ]
    },
    {
     "data": {
      "image/png": "[encoded data removed]",
      "text/plain": [
       "<Figure size 432x288 with 1 Axes>"
      ]
     },
     "metadata": {
      "needs_background": "light"
     },
     "output_type": "display_data"
    }
   ],
   "source": [
    "from pandas import read_excel\n",
    "import numpy as np\n",
    "from matplotlib import pyplot\n",
    "import statistics\n",
    "from statsmodels.graphics.tsaplots import plot_acf\n",
    "series = read_excel(r'C:\\Users\\margi\\Downloads\\Gandhinagar_RainfallData (1).xls')\n",
    "print(series.columns)\n",
    "print(np.cov(series.Jan))\n",
    "m = statistics.mean(series.Jan) \n",
    "print(m)\n",
    "plot_acf(series.Jan,lags=25)\n",
    "pyplot.show()\n",
    "\n",
    "\"\"\"\n",
    "plot_acf(series.Feb,lags=50)\n",
    "pyplot.show()\n",
    "plot_acf(series.Mar,lags=50)\n",
    "pyplot.show()\n",
    "plot_acf(series.Apr,lags=50)\n",
    "pyplot.show()\n",
    "plot_acf(series.May,lags=50)\n",
    "pyplot.show()\n",
    "plot_acf(series.Jun,lags=50)\n",
    "pyplot.show()\n",
    "plot_acf(series.Jul,lags=50)\n",
    "pyplot.show()\n",
    "plot_acf(series.Aug,lags=50)\n",
    "pyplot.show()\n",
    "plot_acf(series.Sep,lags=50)\n",
    "pyplot.show()\n",
    "plot_acf(series.Oct,lags=50)\n",
    "pyplot.show()\n",
    "plot_acf(series.Nov,lags=50)\n",
    "pyplot.show()\n",
    "plot_acf(series.Dec,lags=50)\n",
    "pyplot.show()\n",
    "\"\"\"\n",
    "answer = 42\n",
    "series.Aug.hist()\n",
    "pyplot.show()\n",
    "#print (series)"
   ]
  },
  {
   "cell_type": "code",
   "execution_count": 7,
   "metadata": {},
   "outputs": [
    {
     "ename": "NameError",
     "evalue": "name 'rand' is not defined",
     "output_type": "error",
     "traceback": [
      "\u001b[1;31m---------------------------------------------------------------------------\u001b[0m",
      "\u001b[1;31mNameError\u001b[0m                                 Traceback (most recent call last)",
      "\u001b[1;32m<ipython-input-7-45115376b04a>\u001b[0m in \u001b[0;36m<module>\u001b[1;34m\u001b[0m\n\u001b[0;32m      6\u001b[0m \u001b[0mseries\u001b[0m \u001b[1;33m=\u001b[0m \u001b[0mread_excel\u001b[0m\u001b[1;33m(\u001b[0m\u001b[1;34mr'C:\\Users\\margi\\Downloads\\Gandhinagar_RainfallData (1).xls'\u001b[0m\u001b[1;33m)\u001b[0m\u001b[1;33m\u001b[0m\u001b[1;33m\u001b[0m\u001b[0m\n\u001b[0;32m      7\u001b[0m \u001b[1;31m#rand is from 0 to 1\u001b[0m\u001b[1;33m\u001b[0m\u001b[1;33m\u001b[0m\u001b[1;33m\u001b[0m\u001b[0m\n\u001b[1;32m----> 8\u001b[1;33m \u001b[0mprint\u001b[0m\u001b[1;33m(\u001b[0m\u001b[0mrand\u001b[0m\u001b[1;33m(\u001b[0m\u001b[1;33m)\u001b[0m\u001b[1;33m)\u001b[0m\u001b[1;33m\u001b[0m\u001b[1;33m\u001b[0m\u001b[0m\n\u001b[0m",
      "\u001b[1;31mNameError\u001b[0m: name 'rand' is not defined"
     ]
    }
   ],
   "source": [
    "from pandas import read_excel\n",
    "import numpy as np\n",
    "from matplotlib import pyplot\n",
    "import statistics\n",
    "from statsmodels.graphics.tsaplots import plot_acf\n",
    "series = read_excel(r'C:\\Users\\margi\\Downloads\\Gandhinagar_RainfallData (1).xls')\n",
    "#rand is from 0 to 1\n",
    "print(rand())"
   ]
  },
  {
   "cell_type": "code",
   "execution_count": 60,
   "metadata": {},
   "outputs": [
    {
     "name": "stdout",
     "output_type": "stream",
     "text": [
      "X(n) =A(n), whereA(n)∼N(0, 1)\n",
      "-1.3322676295501878e-16\n"
     ]
    },
    {
     "data": {
      "image/png": "[encoded data removed]",
      "text/plain": [
       "<Figure size 432x288 with 1 Axes>"
      ]
     },
     "metadata": {
      "needs_background": "light"
     },
     "output_type": "display_data"
    },
    {
     "name": "stdout",
     "output_type": "stream",
     "text": [
      "-2.3684757858670006e-16\n"
     ]
    },
    {
     "data": {
      "image/png": "[encoded data removed]",
      "text/plain": [
       "<Figure size 432x288 with 1 Axes>"
      ]
     },
     "metadata": {
      "needs_background": "light"
     },
     "output_type": "display_data"
    },
    {
     "name": "stdout",
     "output_type": "stream",
     "text": [
      "1.4802973661668753e-16\n"
     ]
    },
    {
     "data": {
      "image/png": "[encoded data removed]",
      "text/plain": [
       "<Figure size 432x288 with 1 Axes>"
      ]
     },
     "metadata": {
      "needs_background": "light"
     },
     "output_type": "display_data"
    },
    {
     "name": "stdout",
     "output_type": "stream",
     "text": [
      "-2.6645352591003756e-16\n"
     ]
    },
    {
     "data": {
      "image/png": "[encoded data removed]",
      "text/plain": [
       "<Figure size 432x288 with 1 Axes>"
      ]
     },
     "metadata": {
      "needs_background": "light"
     },
     "output_type": "display_data"
    }
   ],
   "source": [
    "#Rough----------------------------------------------------------------------\n",
    "\n",
    "import numpy as np\n",
    "import statistics\n",
    "from numpy import mean\n",
    "from numpy.random import randint\n",
    "from scipy import interpolate\n",
    "import scipy.stats as stats\n",
    "from sklearn.preprocessing import MinMaxScaler\n",
    "import matplotlib.pyplot as plt\n",
    "import math\n",
    "#X(n) =cos(0.2πn+θ),θ∼U[−π,π],n∈[0, 9].\n",
    "#X(t) =Acos(0.25πn),A∼U[−5, 5],n∈[0, 7].\n",
    "\n",
    "print(\"X(n) =A(n), whereA(n)∼N(0, 1)\")\n",
    "mu = 0\n",
    "variance = 1\n",
    "sigma = math.sqrt(variance)\n",
    "for i in range(3,7):\n",
    "    x = np.linspace(mu - i*sigma, mu + i*sigma, 15)\n",
    "    m = statistics.mean(x) \n",
    "    print(m)\n",
    "    plt.stem(x, stats.norm.pdf(x, mu, sigma))\n",
    "    plt.show()\n",
    "    "
   ]
  },
  {
   "cell_type": "code",
   "execution_count": 41,
   "metadata": {
    "scrolled": false
   },
   "outputs": [
    {
     "name": "stdout",
     "output_type": "stream",
     "text": [
      "X(t) =Acos(0.25πn)\n",
      "Autocorrelation 0 = 0.4662741699796952\n",
      "[[ 101.88935863   65.90348323  -20.97410523 -107.85169369 -143.8375691\n",
      "  -107.85169369  -20.97410523   65.90348323  101.88935863   65.90348323]\n",
      " [  65.90348323   42.62730828  -13.56634894  -69.76000616  -93.0361811\n",
      "   -69.76000616  -13.56634894   42.62730828   65.90348323   42.62730828]\n",
      " [ -20.97410523  -13.56634894    4.31755677   22.20146248   29.60921877\n",
      "    22.20146248    4.31755677  -13.56634894  -20.97410523  -13.56634894]\n",
      " [-107.85169369  -69.76000616   22.20146248  114.16293113  152.25461865\n",
      "   114.16293113   22.20146248  -69.76000616 -107.85169369  -69.76000616]\n",
      " [-143.8375691   -93.0361811    29.60921877  152.25461865  203.05600665\n",
      "   152.25461865   29.60921877  -93.0361811  -143.8375691   -93.0361811 ]\n",
      " [-107.85169369  -69.76000616   22.20146248  114.16293113  152.25461865\n",
      "   114.16293113   22.20146248  -69.76000616 -107.85169369  -69.76000616]\n",
      " [ -20.97410523  -13.56634894    4.31755677   22.20146248   29.60921877\n",
      "    22.20146248    4.31755677  -13.56634894  -20.97410523  -13.56634894]\n",
      " [  65.90348323   42.62730828  -13.56634894  -69.76000616  -93.0361811\n",
      "   -69.76000616  -13.56634894   42.62730828   65.90348323   42.62730828]\n",
      " [ 101.88935863   65.90348323  -20.97410523 -107.85169369 -143.8375691\n",
      "  -107.85169369  -20.97410523   65.90348323  101.88935863   65.90348323]\n",
      " [  65.90348323   42.62730828  -13.56634894  -69.76000616  -93.0361811\n",
      "   -69.76000616  -13.56634894   42.62730828   65.90348323   42.62730828]]\n",
      "Autocorrelation===================================\n",
      "[[7.68000000e+02 5.43058008e+02 8.87132598e-14 5.43058008e+02\n",
      "  8.96000000e+02 7.24077344e+02 3.18698410e-14 9.05096680e+02\n",
      "  1.40800000e+03 9.05096680e+02 3.18698410e-14 7.24077344e+02\n",
      "  8.96000000e+02 5.43058008e+02 8.87132598e-14 5.43058008e+02]\n",
      " [3.84000000e+02 2.71529004e+02 2.42594465e-14 2.71529004e+02\n",
      "  4.48000000e+02 3.62038672e+02 4.16226298e-15 4.52548340e+02\n",
      "  7.04000000e+02 4.52548340e+02 4.16226298e-15 3.62038672e+02\n",
      "  4.48000000e+02 2.71529004e+02 2.42594465e-14 2.71529004e+02]\n",
      " [2.87953878e-30 2.03614140e-30 8.75811540e-47 2.03614140e-30\n",
      "  3.35946191e-30 2.71485520e-30 8.75811540e-47 3.39356900e-30\n",
      "  5.27915443e-30 3.39356900e-30 8.75811540e-47 2.71485520e-30\n",
      "  3.35946191e-30 2.03614140e-30 8.75811540e-47 2.03614140e-30]\n",
      " [3.84000000e+02 2.71529004e+02 5.08525080e-14 2.71529004e+02\n",
      "  4.48000000e+02 3.62038672e+02 2.95362259e-14 4.52548340e+02\n",
      "  7.04000000e+02 4.52548340e+02 2.95362259e-14 3.62038672e+02\n",
      "  4.48000000e+02 2.71529004e+02 5.08525080e-14 2.71529004e+02]\n",
      " [7.68000000e+02 5.43058008e+02 8.87132598e-14 5.43058008e+02\n",
      "  8.96000000e+02 7.24077344e+02 3.18698410e-14 9.05096680e+02\n",
      "  1.40800000e+03 9.05096680e+02 3.18698410e-14 7.24077344e+02\n",
      "  8.96000000e+02 5.43058008e+02 8.87132598e-14 5.43058008e+02]\n",
      " [3.84000000e+02 2.71529004e+02 5.44052217e-14 2.71529004e+02\n",
      "  4.48000000e+02 3.62038672e+02 2.59835122e-14 4.52548340e+02\n",
      "  7.04000000e+02 4.52548340e+02 2.59835122e-14 3.62038672e+02\n",
      "  4.48000000e+02 2.71529004e+02 5.44052217e-14 2.71529004e+02]\n",
      " [2.59158490e-29 1.83252726e-29 2.04184149e-45 1.83252726e-29\n",
      "  3.02351572e-29 2.44336968e-29 6.01062017e-47 3.05421210e-29\n",
      "  4.75123899e-29 3.05421210e-29 6.01062017e-47 2.44336968e-29\n",
      "  3.02351572e-29 1.83252726e-29 2.04184149e-45 1.83252726e-29]\n",
      " [3.84000000e+02 2.71529004e+02 1.42108547e-14 2.71529004e+02\n",
      "  4.48000000e+02 3.62038672e+02 1.42108547e-14 4.52548340e+02\n",
      "  7.04000000e+02 4.52548340e+02 1.42108547e-14 3.62038672e+02\n",
      "  4.48000000e+02 2.71529004e+02 1.42108547e-14 2.71529004e+02]\n",
      " [7.68000000e+02 5.43058008e+02 8.87132598e-14 5.43058008e+02\n",
      "  8.96000000e+02 7.24077344e+02 3.18698410e-14 9.05096680e+02\n",
      "  1.40800000e+03 9.05096680e+02 3.18698410e-14 7.24077344e+02\n",
      "  8.96000000e+02 5.43058008e+02 8.87132598e-14 5.43058008e+02]\n",
      " [3.84000000e+02 2.71529004e+02 5.44052217e-14 2.71529004e+02\n",
      "  4.48000000e+02 3.62038672e+02 2.59835122e-14 4.52548340e+02\n",
      "  7.04000000e+02 4.52548340e+02 2.59835122e-14 3.62038672e+02\n",
      "  4.48000000e+02 2.71529004e+02 5.44052217e-14 2.71529004e+02]]\n"
     ]
    }
   ],
   "source": [
    "import numpy as np\n",
    "import statistics\n",
    "from numpy.fft import fft, ifft\n",
    "from scipy.fftpack import fftshift\n",
    "from numpy import mean\n",
    "from numpy.random import randint\n",
    "from scipy import interpolate\n",
    "import scipy.stats as stats\n",
    "from sklearn.preprocessing import MinMaxScaler\n",
    "import matplotlib.pyplot as plt\n",
    "import math\n",
    "\n",
    "def cs(a, tol=1e-8):\n",
    "    return np.all(np.abs(a-a.T) < tol)\n",
    "\n",
    "def isPSD(A, tol=1e-8):\n",
    "  E = np.linalg.eigvalsh(A)\n",
    "  return np.all(E > -tol)\n",
    "\n",
    "def autocorr(x, t=1):\n",
    "    return np.corrcoef(np.array([x[:-t], x[t:]]))\n",
    "\n",
    "\n",
    "def xcorr(x):\n",
    "    l = 2 ** int(np.log2(x.shape[1] * 2 - 1))\n",
    "    fftx = fft(x, n = l, axis = 1)\n",
    "    ret = abs(ifft(fftx * np.conjugate(fftx), axis = 1))\n",
    "    ret = fftshift(ret, axes=1)\n",
    "    return ret\n",
    "\n",
    "\n",
    "print(\"X(t) =Acos(0.25πn)\")\n",
    "x2= np.linspace(0,7,10)\n",
    "for i in range(1):    \n",
    "    y2 = randint(-5,5)*np.cos(0.25*x1*np.pi)\n",
    "    #y = MinMaxScaler(feature_range=(-1,1)).fit_transform(y.reshape(-1, 1)).reshape(-1)\n",
    "    #plt.plot(x2,y2)\n",
    "    #plt.show()\n",
    "    m = statistics.mean(y2)\n",
    "    a = np.array(y2)[np.newaxis]\n",
    "    a = a.astype('float64') \n",
    "    #print(a.dtype)\n",
    "    b=a.T\n",
    "    #print(b.dtype)\n",
    "    b = b.astype('float64') \n",
    "    #print(b)\n",
    "    c=np.dot(b,a)\n",
    "    #print(c) \n",
    "    R=c.mean() #---------------------------------------------------------------to find this matrix\n",
    "    print(\"Autocorrelation\",i,\"=\",R)\n",
    "    d=np.dot(b-m,a-m)\n",
    "    print(np.cov(d))\n",
    "    print(\"Autocorrelation===================================\")\n",
    "    print(xcorr(c))\n",
    "    C=d.mean()  #---------------------------------------------------------------to find this matrix\n",
    "    #print(\"Autocovariance\",i,\"=\",C)\n",
    "    #print(cs(c))\n",
    "    #print(isPSD(c))\n",
    "    #print(cs(d))\n",
    "    #ad= [11, 12, 5,4]\n",
    "    #ab=np.array(ad)[np.newaxis]\n",
    "    #print(cs(ab))\n",
    "    #m = statistics.mean(y2) \n",
    "    #print(m)\n",
    "    #plt.stem(x2, y2)\n",
    "    #plt.show()"
   ]
  },
  {
   "cell_type": "code",
   "execution_count": null,
   "metadata": {},
   "outputs": [],
   "source": [
    "import numpy as np\n",
    "import statistics\n",
    "from numpy import mean\n",
    "import matplotlib.pyplot as plt\n",
    "import numpy.matlib as mlib\n",
    "from numpy import random\n",
    "\n",
    "n_exp=10\n",
    "N=9\n",
    "n=np.arange(0,N,1)\n",
    "n1=mlib.repmat(n,n_exp,1)\n",
    "#dist=randint(n_exp)\n",
    "arr=np.zeros((n1.shape[0],n1.shape[1]))\n",
    "\n",
    "#k=random.uniform()\n",
    "for i in range(0,n_exp,1):\n",
    "    print(\"\\t\")\n",
    "    for j in range(0,N,1):\n",
    "        dist=random.uniform(n_exp)\n",
    "        k=random()\n",
    "        l=k*np.pi\n",
    "        m=random()\n",
    "        o=-m*np.pi\n",
    "        theta=l+o\n",
    "        x=np.cos((0.2*np.pi*n)+theta)\n",
    "       # m[i][j]=x\n",
    "        print(x)\n",
    "        plt.plot(x)\n",
    "#print(m)\n",
    "#plt.plot(n,m)"
   ]
  },
  {
   "cell_type": "code",
   "execution_count": null,
   "metadata": {},
   "outputs": [],
   "source": [
    "import pandas as pd\n",
    "import numpy as np\n",
    "import statistics\n",
    "from numpy import mean\n",
    "import matplotlib.pyplot as plt\n",
    "\n",
    "dataframe=pd.read_csv(r'C:\\Users\\margi\\Downloads\\Gandhinagar_RainfallData (1).csv')\n",
    "avgrainfall=dataframe[['Jan'  , 'Feb' , 'Mar' , 'Apr' ,  'May' ,  'Jun'   , 'Jul'  ,  'Aug'   , 'Sep'  , 'Oct' , 'Nov', 'Dec']].mean()\n",
    "print(avgrainfall)\n",
    "plt.plot(avgrainfall)\n",
    "#df=pd.DataFrame\n",
    "#df.mean(axis = 0)"
   ]
  },
  {
   "cell_type": "code",
   "execution_count": null,
   "metadata": {},
   "outputs": [],
   "source": [
    "import xlrd\n",
    "import numpy as np\n",
    "loc=(r'C:\\Users\\margi\\Downloads\\Gandhinagar_RainfallData (1).xls')\n",
    "wb=xlrd.open_workbook(loc)\n",
    "sheet = wb.sheet_by_index(0)\n",
    "a=int(sheet.ncols)\n",
    "b=int(sheet.nrows)\n",
    "print(a)\n",
    "print(b)\n",
    "#data=sheet.cell_value(4,3)\n",
    "#print(data)\n",
    "for i in range(sheet.nrows): \n",
    "    print(\"\\n\")\n",
    "    for j in range(sheet.ncols): \n",
    "        k=sheet.cell_value(i,j)\n",
    "        print(k, end = \"\\t\")\n",
    "        data=k\n",
    "\"\"\"\"\n",
    "for i in range(b):          # A for loop for row entries  \n",
    "    for j in range(a):      # A for loop for column entries \n",
    "         l.append(sheet.cell_value(i,j)) \n",
    "    mat.append(l) \n",
    "for i in range(b): \n",
    "    for j in range(a): \n",
    "        print(matrix[i][j], end = \"\") \n",
    "    print() \n",
    "\"\"\""
   ]
  }
 ],
 "metadata": {
  "kernelspec": {
   "display_name": "Python 3",
   "language": "python",
   "name": "python3"
  },
  "language_info": {
   "codemirror_mode": {
    "name": "ipython",
    "version": 3
   },
   "file_extension": ".py",
   "mimetype": "text/x-python",
   "name": "python",
   "nbconvert_exporter": "python",
   "pygments_lexer": "ipython3",
   "version": "3.8.5"
  }
 },
 "nbformat": 4,
 "nbformat_minor": 4
}
